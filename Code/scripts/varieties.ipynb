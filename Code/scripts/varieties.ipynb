{
 "cells": [
  {
   "cell_type": "code",
   "execution_count": 7,
   "id": "initial_id",
   "metadata": {
    "collapsed": true,
    "ExecuteTime": {
     "end_time": "2025-02-21T16:57:55.821238400Z",
     "start_time": "2025-02-21T16:57:55.805074900Z"
    }
   },
   "outputs": [],
   "source": [
    "import pandas as pd"
   ]
  },
  {
   "cell_type": "code",
   "execution_count": 8,
   "outputs": [
    {
     "name": "stderr",
     "output_type": "stream",
     "text": [
      "C:\\Users\\rmaes\\AppData\\Local\\Temp\\ipykernel_18124\\1745221374.py:7: FutureWarning: Downcasting behavior in `replace` is deprecated and will be removed in a future version. To retain the old behavior, explicitly call `result.infer_objects(copy=False)`. To opt-in to the future behavior, set `pd.set_option('future.no_silent_downcasting', True)`\n",
      "  trueTemple[\"Relevant\"] = trueTemple[\"Relevant\"].replace({\"info\" : 1, \"non-info\" : 0})\n"
     ]
    }
   ],
   "source": [
    "trueTemple = pd.read_csv(\"../data/templerun2_labeled.txt\", delimiter=\",\")\n",
    "\n",
    "trueTemple = trueTemple.drop(trueTemple.columns[[0, 1]], axis=1)\n",
    "\n",
    "trueTemple.columns = [\"Review\", \"Relevant\"]\n",
    "\n",
    "trueTemple[\"Relevant\"] = trueTemple[\"Relevant\"].replace({\"info\" : 1, \"non-info\" : 0})\n",
    "\n",
    "trueTemple.to_csv(\"../data/templerun2_labeled.csv\", index=False)"
   ],
   "metadata": {
    "collapsed": false,
    "ExecuteTime": {
     "end_time": "2025-02-21T16:57:55.861281500Z",
     "start_time": "2025-02-21T16:57:55.821238400Z"
    }
   },
   "id": "75ff7c6f3731fc44"
  },
  {
   "cell_type": "code",
   "execution_count": 37,
   "outputs": [
    {
     "name": "stdout",
     "output_type": "stream",
     "text": [
      "i would give it 5 star but every time play on  its some time freesy all the tim\n",
      "                                                 Review Relevant\n",
      "0     great game, but too many repetitive bubble tip...        1\n",
      "1     give more fish bucks and lower prices, but it ...        1\n",
      "2     i hate that after i get a new phone i have to ...        1\n",
      "3     wish breeding was quicker but looooooooove the...        1\n",
      "4            love this game but it lags on my phone\\r\\n        1\n",
      "...                                                 ...      ...\n",
      "2995              my daughters care the fishes nice\\r\\n        0\n",
      "2996                        thanks for the game ^_^\\r\\n        0\n",
      "2997                                       tap fish\\r\\n        0\n",
      "2998  usually don't like games like this but this is...        0\n",
      "2999  i thought it was a wallpaper for my tablet, no...        0\n",
      "\n",
      "[3000 rows x 2 columns]\n"
     ]
    }
   ],
   "source": [
    "tf = pd.read_csv(\"../data/tapfish_labeled v2.csv\", delimiter=\",\")\n",
    "\n",
    "tf[\"Relevant\"] = tf[\"Review\"].str.split(\",\").str[-1]\n",
    "tf[\"Review\"] = tf[\"Review\"].str[:-2]\n",
    "\n",
    "print(tf[\"Review\"][2279])\n",
    "# tf[\"Review\"][2279] = \"i would give it 5 star but every time play on  its some time freesy all the time.\"\n",
    "# tf[\"Relevant\"][2279] = 0\n",
    "\n",
    "tf.iloc[2279, 0] = \"i would give it 5 star but every time play on  its some time freesy all the time.\"\n",
    "tf.iloc[2279, 1] = 0\n",
    "\n",
    "print(tf)\n",
    "\n",
    "tf.to_csv(\"../data/tapfish_labeled v3.csv\", index=False)\n",
    "\n"
   ],
   "metadata": {
    "collapsed": false,
    "ExecuteTime": {
     "end_time": "2025-02-21T17:39:17.924189100Z",
     "start_time": "2025-02-21T17:39:17.872179900Z"
    }
   },
   "id": "f062a78a95d3a987"
  },
  {
   "cell_type": "code",
   "execution_count": 9,
   "outputs": [],
   "source": [],
   "metadata": {
    "collapsed": false,
    "ExecuteTime": {
     "end_time": "2025-02-21T16:57:55.911032900Z",
     "start_time": "2025-02-21T16:57:55.879552700Z"
    }
   },
   "id": "edd8b294499a4076"
  }
 ],
 "metadata": {
  "kernelspec": {
   "display_name": "Python 3",
   "language": "python",
   "name": "python3"
  },
  "language_info": {
   "codemirror_mode": {
    "name": "ipython",
    "version": 2
   },
   "file_extension": ".py",
   "mimetype": "text/x-python",
   "name": "python",
   "nbconvert_exporter": "python",
   "pygments_lexer": "ipython2",
   "version": "2.7.6"
  }
 },
 "nbformat": 4,
 "nbformat_minor": 5
}
